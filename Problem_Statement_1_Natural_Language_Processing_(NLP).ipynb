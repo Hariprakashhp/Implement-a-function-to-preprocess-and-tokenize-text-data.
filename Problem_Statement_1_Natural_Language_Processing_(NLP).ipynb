{
  "nbformat": 4,
  "nbformat_minor": 0,
  "metadata": {
    "colab": {
      "private_outputs": true,
      "provenance": [],
      "authorship_tag": "ABX9TyNWsS2JJ2g6WT14R5XsQ+/Y",
      "include_colab_link": true
    },
    "kernelspec": {
      "name": "python3",
      "display_name": "Python 3"
    },
    "language_info": {
      "name": "python"
    }
  },
  "cells": [
    {
      "cell_type": "markdown",
      "metadata": {
        "id": "view-in-github",
        "colab_type": "text"
      },
      "source": [
        "<a href=\"https://colab.research.google.com/github/Hariprakashhp/Implement-a-function-to-preprocess-and-tokenize-text-data./blob/main/Problem_Statement_1_Natural_Language_Processing_(NLP).ipynb\" target=\"_parent\"><img src=\"https://colab.research.google.com/assets/colab-badge.svg\" alt=\"Open In Colab\"/></a>"
      ]
    },
    {
      "cell_type": "code",
      "source": [
        "# @title Install Required Libraries\n",
        "!pip install nltk spacy\n"
      ],
      "metadata": {
        "id": "xMHKsIThdkuw"
      },
      "execution_count": null,
      "outputs": []
    },
    {
      "cell_type": "code",
      "source": [
        "# @title download the language model\n",
        "!python -m spacy download en_core_web_sm\n"
      ],
      "metadata": {
        "id": "BgTC22QUdyCu"
      },
      "execution_count": null,
      "outputs": []
    },
    {
      "cell_type": "code",
      "source": [
        "import spacy\n",
        "nlp = spacy.load('en_core_web_sm')\n"
      ],
      "metadata": {
        "id": "u6AbK--3ei3g"
      },
      "execution_count": null,
      "outputs": []
    },
    {
      "cell_type": "code",
      "source": [
        "nltk.download('punkt')\n",
        "nltk.download('stopwords')\n"
      ],
      "metadata": {
        "id": "IKyxJQKheua2"
      },
      "execution_count": null,
      "outputs": []
    },
    {
      "cell_type": "code",
      "source": [
        "# @title Preprocessing Function\n",
        "def preprocess_text_spacy(text):\n",
        "    \"\"\"\n",
        "    Preprocess and tokenize text using spaCy.\n",
        "\n",
        "    Args:\n",
        "    text (str): The input text to preprocess.\n",
        "\n",
        "    Returns:\n",
        "    list: A list of preprocessed tokens.\n",
        "    \"\"\"\n",
        "\n",
        "    # Process the text using spaCy\n",
        "    doc = nlp(text)\n",
        "\n",
        "    # Remove punctuation and stopwords\n",
        "    tokens = [token.text.lower() for token in doc if not token.is_punct and not token.is_stop]\n",
        "\n",
        "    return tokens\n"
      ],
      "metadata": {
        "id": "qNweyIcJe4Hk"
      },
      "execution_count": null,
      "outputs": []
    },
    {
      "cell_type": "code",
      "source": [
        "# @title Test the Function\n",
        "\n",
        "sample_text = \"Hello, world! This is a sample text for preprocessing.\"\n",
        "\n",
        "# Using NLTK\n",
        "print(preprocess_text_nltk(sample_text))\n",
        "\n",
        "# Using spaCy\n",
        "print(preprocess_text_spacy(sample_text))\n"
      ],
      "metadata": {
        "id": "F4Wrgkx5e92c"
      },
      "execution_count": null,
      "outputs": []
    },
    {
      "cell_type": "code",
      "source": [],
      "metadata": {
        "id": "XabJQLF8fBmG"
      },
      "execution_count": null,
      "outputs": []
    }
  ]
}